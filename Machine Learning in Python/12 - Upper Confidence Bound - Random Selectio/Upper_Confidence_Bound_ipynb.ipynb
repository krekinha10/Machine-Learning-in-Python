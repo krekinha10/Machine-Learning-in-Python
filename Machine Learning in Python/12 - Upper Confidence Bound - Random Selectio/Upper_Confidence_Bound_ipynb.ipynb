{
  "nbformat": 4,
  "nbformat_minor": 0,
  "metadata": {
    "colab": {
      "name": "Upper_Confidence_Bound_ipynb",
      "provenance": [],
      "collapsed_sections": []
    },
    "kernelspec": {
      "name": "python3",
      "display_name": "Python 3"
    }
  },
  "cells": [
    {
      "cell_type": "markdown",
      "metadata": {
        "id": "HsOn--84xw1F",
        "colab_type": "text"
      },
      "source": [
        "## **Importing the *Mathematical* Libraries**"
      ]
    },
    {
      "cell_type": "code",
      "metadata": {
        "id": "lPOo034swH7u",
        "colab_type": "code",
        "colab": {}
      },
      "source": [
        "import numpy as np \n",
        "import pandas as pd\n",
        "import math"
      ],
      "execution_count": null,
      "outputs": []
    },
    {
      "cell_type": "markdown",
      "metadata": {
        "id": "dS67gIbtyDaa",
        "colab_type": "text"
      },
      "source": [
        "# **Importing the Graphical Libraries**"
      ]
    },
    {
      "cell_type": "code",
      "metadata": {
        "id": "8qJxKAmmyNH4",
        "colab_type": "code",
        "colab": {}
      },
      "source": [
        "import matplotlib.pyplot as plt\n",
        "import seaborn as sns\n"
      ],
      "execution_count": null,
      "outputs": []
    },
    {
      "cell_type": "markdown",
      "metadata": {
        "id": "65vkJIX_yXCx",
        "colab_type": "text"
      },
      "source": [
        "# **Importing the Dataset**"
      ]
    },
    {
      "cell_type": "code",
      "metadata": {
        "id": "RFaN8nbpyU_X",
        "colab_type": "code",
        "colab": {}
      },
      "source": [
        "dataset = pd.read_csv(\"Ads_CTR_Optimisation.csv\")"
      ],
      "execution_count": null,
      "outputs": []
    },
    {
      "cell_type": "markdown",
      "metadata": {
        "id": "WHw63FGQytO7",
        "colab_type": "text"
      },
      "source": [
        "# **Getting some information from the Dataset**"
      ]
    },
    {
      "cell_type": "code",
      "metadata": {
        "id": "ljN7GpgYyz6u",
        "colab_type": "code",
        "colab": {
          "base_uri": "https://localhost:8080/",
          "height": 306
        },
        "outputId": "ec9f8eee-a5ec-414f-b5d7-9f3b807053df"
      },
      "source": [
        "dataset.info()"
      ],
      "execution_count": null,
      "outputs": [
        {
          "output_type": "stream",
          "text": [
            "<class 'pandas.core.frame.DataFrame'>\n",
            "RangeIndex: 10000 entries, 0 to 9999\n",
            "Data columns (total 10 columns):\n",
            " #   Column  Non-Null Count  Dtype\n",
            "---  ------  --------------  -----\n",
            " 0   Ad 1    10000 non-null  int64\n",
            " 1   Ad 2    10000 non-null  int64\n",
            " 2   Ad 3    10000 non-null  int64\n",
            " 3   Ad 4    10000 non-null  int64\n",
            " 4   Ad 5    10000 non-null  int64\n",
            " 5   Ad 6    10000 non-null  int64\n",
            " 6   Ad 7    10000 non-null  int64\n",
            " 7   Ad 8    10000 non-null  int64\n",
            " 8   Ad 9    10000 non-null  int64\n",
            " 9   Ad 10   10000 non-null  int64\n",
            "dtypes: int64(10)\n",
            "memory usage: 781.4 KB\n"
          ],
          "name": "stdout"
        }
      ]
    },
    {
      "cell_type": "code",
      "metadata": {
        "id": "PaszuLA4y_Tp",
        "colab_type": "code",
        "colab": {
          "base_uri": "https://localhost:8080/",
          "height": 34
        },
        "outputId": "8cf341ea-8084-4946-a563-7f899a815de2"
      },
      "source": [
        "dataset.columns[1]"
      ],
      "execution_count": null,
      "outputs": [
        {
          "output_type": "execute_result",
          "data": {
            "text/plain": [
              "'Ad 2'"
            ]
          },
          "metadata": {
            "tags": []
          },
          "execution_count": 103
        }
      ]
    },
    {
      "cell_type": "markdown",
      "metadata": {
        "id": "la5uZgIy0rKG",
        "colab_type": "text"
      },
      "source": [
        "# **Implementing Upper Confidence Boundary**"
      ]
    },
    {
      "cell_type": "code",
      "metadata": {
        "id": "61OeKh6y0_Wr",
        "colab_type": "code",
        "colab": {}
      },
      "source": [
        "N_users = len(dataset[dataset.columns[0]])\n",
        "n_columns = len(dataset.columns)\n",
        "ads_selected = []\n",
        "numbers_of_selections = list(np.zeros(n_columns,dtype= 'int')) \n",
        "sums_of_rewards = list(np.zeros(n_columns,dtype= 'int')) \n",
        "total_reward = 0\n",
        "\n",
        "for n in range(0,N_users):\n",
        "  ad = 0\n",
        "  max_upper_bound =  0\n",
        "  for i in range(0,n_columns):\n",
        "    if (numbers_of_selections[i] > 0):\n",
        "      average_reward = float(sums_of_rewards[i] / numbers_of_selections[i])\n",
        "      delta_i = math.sqrt(3/2*math.log(n+1)/numbers_of_selections[i])\n",
        "      upper_bound = average_reward + delta_i\n",
        "    else:\n",
        "      upper_bound = 1e400\n",
        "    if(upper_bound > max_upper_bound):\n",
        "      max_upper_bound = upper_bound\n",
        "      ad = i\n",
        "  ads_selected.append(ad)\n",
        "  numbers_of_selections[ad] = numbers_of_selections[ad] + 1\n",
        "  reward = dataset.values[n, ad] \n",
        "  sums_of_rewards[ad] = sums_of_rewards[ad] + reward\n",
        "  total_reward = total_reward + reward"
      ],
      "execution_count": null,
      "outputs": []
    },
    {
      "cell_type": "code",
      "metadata": {
        "id": "0MswXMbSGuYy",
        "colab_type": "code",
        "colab": {
          "base_uri": "https://localhost:8080/",
          "height": 34
        },
        "outputId": "0fe63240-f70f-4a81-f48a-ae18d9c951bb"
      },
      "source": [
        "type(n_columns)"
      ],
      "execution_count": null,
      "outputs": [
        {
          "output_type": "execute_result",
          "data": {
            "text/plain": [
              "int"
            ]
          },
          "metadata": {
            "tags": []
          },
          "execution_count": 105
        }
      ]
    },
    {
      "cell_type": "code",
      "metadata": {
        "id": "NFFSJuyaDn9a",
        "colab_type": "code",
        "colab": {
          "base_uri": "https://localhost:8080/",
          "height": 34
        },
        "outputId": "9602bf18-f2b4-4b1a-ab97-42cef7f89375"
      },
      "source": [
        "numbers_of_selections"
      ],
      "execution_count": null,
      "outputs": [
        {
          "output_type": "execute_result",
          "data": {
            "text/plain": [
              "[705, 387, 186, 345, 6323, 150, 292, 1170, 256, 186]"
            ]
          },
          "metadata": {
            "tags": []
          },
          "execution_count": 106
        }
      ]
    },
    {
      "cell_type": "code",
      "metadata": {
        "id": "EDsVwOFXDn7F",
        "colab_type": "code",
        "colab": {
          "base_uri": "https://localhost:8080/",
          "height": 34
        },
        "outputId": "05fda8e5-14de-4f16-c933-b9c69d2ed796"
      },
      "source": [
        "sums_of_rewards "
      ],
      "execution_count": null,
      "outputs": [
        {
          "output_type": "execute_result",
          "data": {
            "text/plain": [
              "[120, 47, 7, 38, 1675, 1, 27, 236, 20, 7]"
            ]
          },
          "metadata": {
            "tags": []
          },
          "execution_count": 107
        }
      ]
    },
    {
      "cell_type": "markdown",
      "metadata": {
        "id": "U1zX7i4w1BnT",
        "colab_type": "text"
      },
      "source": [
        "# **Visualising the results**"
      ]
    },
    {
      "cell_type": "code",
      "metadata": {
        "id": "BirtiEDR1FdG",
        "colab_type": "code",
        "colab": {
          "base_uri": "https://localhost:8080/",
          "height": 421
        },
        "outputId": "b3c345f8-fcc4-46c9-f448-b398a0f6f756"
      },
      "source": [
        "plt.figure(figsize=(12,6))\n",
        "plt.hist(ads_selected,bins = 10)\n",
        "plt.xlim((0,9))\n",
        "plt.title('Hsitogram of add selections')\n",
        "plt.xlabel('Ads')\n",
        "plt.ylabel('Number of times each ad was selected')"
      ],
      "execution_count": null,
      "outputs": [
        {
          "output_type": "execute_result",
          "data": {
            "text/plain": [
              "Text(0, 0.5, 'Number of times each ad was selected')"
            ]
          },
          "metadata": {
            "tags": []
          },
          "execution_count": 111
        },
        {
          "output_type": "display_data",
          "data": {
            "image/png": "[encoded data removed]",
            "text/plain": [
              "<Figure size 864x432 with 1 Axes>"
            ]
          },
          "metadata": {
            "tags": [],
            "needs_background": "light"
          }
        }
      ]
    },
    {
      "cell_type": "code",
      "metadata": {
        "id": "Gqa5ArjwEkg6",
        "colab_type": "code",
        "colab": {}
      },
      "source": [
        ""
      ],
      "execution_count": null,
      "outputs": []
    }
  ]
}